{
  "cells": [
    {
      "cell_type": "markdown",
      "id": "ce4c6f44",
      "metadata": {},
      "source": [
        "## 0) Imports\n",
        "We import the libraries needed for exploration: `pandas` for data handling and `textwrap` for readable printing."
      ]
    },
    {
      "cell_type": "code",
      "execution_count": null,
      "id": "a8e32ac7",
      "metadata": {},
      "outputs": [],
      "source": [
        "import pandas as pd\n",
        "import textwrap"
      ]
    },
    {
      "cell_type": "markdown",
      "id": "98e88a71",
      "metadata": {},
      "source": [
        "## 1) Check Progress of `gpt_score`\n",
        "Loads the GPT-scored file and counts how many rows have missing/filled values."
      ]
    },
    {
      "cell_type": "code",
      "execution_count": null,
      "id": "5ea6fb77",
      "metadata": {},
      "outputs": [],
      "source": [
        "# Load the CSV (repo-relative path)\n",
        "csv_path = r\"../../data/electoralTerm_19_scored.csv\"\n",
        "df = pd.read_csv(csv_path)\n",
        "\n",
        "# Count non-empty and empty gpt_score values\n",
        "filled_count = df['gpt_score'].notna().sum()\n",
        "empty_count = df['gpt_score'].isna().sum()\n",
        "\n",
        "print(f\"✅ gpt_score filled: {filled_count} rows\")\n",
        "print(f\"⏳ gpt_score missing: {empty_count} rows\")\n",
        "\n",
        "# Convert gpt_score to numeric\n",
        "df['gpt_score'] = pd.to_numeric(df['gpt_score'], errors='coerce')"
      ]
    },
    {
      "cell_type": "markdown",
      "id": "775fe3a6",
      "metadata": {},
      "source": [
        "## 2) Check Progress of `gemini_score`\n",
        "Loads the Gemini-scored file and counts how many rows are filled vs missing."
      ]
    },
    {
      "cell_type": "code",
      "execution_count": null,
      "id": "48514852",
      "metadata": {},
      "outputs": [],
      "source": [
        "# Load the CSV (repo-relative path)\n",
        "csv_path = r\"../../data/electoralTerm_19_scored_gemini.csv\"\n",
        "df = pd.read_csv(csv_path)\n",
        "\n",
        "# Count non-empty and empty gemini_score values\n",
        "filled_count = df['gemini_score'].notna().sum()\n",
        "empty_count = df['gemini_score'].isna().sum()\n",
        "\n",
        "print(f\"✅ gemini_score filled: {filled_count} rows\")\n",
        "print(f\"⏳ gemini_score missing: {empty_count} rows\")\n",
        "\n",
        "# Print selected rows to look at results\n",
        "print(df.loc[1000:1030, ['Party', 'gpt_score','gpt_4.1_score']])"
      ]
    },
    {
      "cell_type": "markdown",
      "id": "8562f449",
      "metadata": {},
      "source": [
        "## 3) Inspect Speech Content\n",
        "Example of wrapping long text to view a single speech more comfortably."
      ]
    },
    {
      "cell_type": "code",
      "execution_count": null,
      "id": "7b523ead",
      "metadata": {},
      "outputs": [],
      "source": [
        "# Get the speech content\n",
        "speech = df.loc[509, 'speechContent']\n",
        "\n",
        "# Wrap and print it with line breaks every 100 characters\n",
        "wrapped = textwrap.fill(speech, width=100)\n",
        "print(wrapped)"
      ]
    },
    {
      "cell_type": "markdown",
      "id": "cb7e9a1d",
      "metadata": {},
      "source": [
        "## 4) Example Analysis – Average Score for CDU/CSU\n",
        "Converts `gemini_score` to numeric and computes the mean for CDU/CSU speeches."
      ]
    },
    {
      "cell_type": "code",
      "execution_count": null,
      "id": "cef5cb55",
      "metadata": {},
      "outputs": [],
      "source": [
        "# Ensure numeric just in case\n",
        "df['gemini_score'] = pd.to_numeric(df['gemini_score'], errors='coerce')\n",
        "\n",
        "# Filter for CDU/CSU (not \"CDU\")\n",
        "cdu_df = df[(df['Party'] == \"CDU/CSU\") & (df['gemini_score'].notna())]\n",
        "\n",
        "# Calculate the average\n",
        "average_score = cdu_df['gemini_score'].mean()\n",
        "print(f\"📊 Average GPT score for CDU/CSU: {average_score:.2f}\")"
      ]
    }
  ],
  "metadata": {
    "kernelspec": {
      "display_name": "Python 3",
      "language": "python",
      "name": "python3"
    },
    "language_info": {
      "name": "python",
      "version": ""
    }
  },
  "nbformat": 4,
  "nbformat_minor": 5
}
